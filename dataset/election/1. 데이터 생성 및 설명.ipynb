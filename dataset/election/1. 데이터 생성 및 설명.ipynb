{
 "cells": [
  {
   "cell_type": "code",
   "execution_count": 63,
   "metadata": {
    "ExecuteTime": {
     "end_time": "2020-12-05T13:12:23.358609Z",
     "start_time": "2020-12-05T13:12:23.343649Z"
    }
   },
   "outputs": [],
   "source": [
    "import pandas as pd\n",
    "import numpy as np\n",
    "np.random.seed(100)"
   ]
  },
  {
   "cell_type": "code",
   "execution_count": 64,
   "metadata": {
    "ExecuteTime": {
     "end_time": "2020-12-05T13:12:23.759535Z",
     "start_time": "2020-12-05T13:12:23.668779Z"
    }
   },
   "outputs": [],
   "source": [
    "data = pd.read_csv(\"원본.csv\",index_col=0)\n",
    "data[\"선거 종류\"] = data[\"선거 종류\"].apply(lambda x: x.replace(\"·\",\"\").replace(\" \",\"\"))\n",
    "data[\"당선여부\"] = data[\"당선여부\"].astype(bool)\n",
    "data[\"경력_지역\"] = data[\"경력_지역\"].astype(bool)"
   ]
  },
  {
   "cell_type": "markdown",
   "metadata": {},
   "source": [
    "원본 데이터 컬럼 및 데이터 형\n",
    "\n",
    "영어|컬럼|type\n",
    "--|--|--\n",
    "Name|성명|String\n",
    "Loccation|지역|String\n",
    "ElectionDistrict|선거구명 | String\n",
    "ElectionKind|선거 종류 | String\n",
    "Num | 회차 | Int\n",
    "SymbolNumber| 기호 | Int\n",
    "Gender|성별 | String\n",
    "Party|정당명 | String\n",
    "Age|연령 | Int\n",
    "Job|직업 | String\n",
    "Rater|여당평가 | Float\n",
    "Elected|당선여부 | Bool       \n",
    "Vote|득표수(득표율) | Float\n",
    "School|학교 | String\n",
    "Subject|과목 | String\n",
    "Career|경력_지역 | Bool\n",
    "Popularity|인지도 | Float\n",
    "LocNum|지역구분 | Int"
   ]
  },
  {
   "cell_type": "markdown",
   "metadata": {},
   "source": [
    "각 원본데이터의 컬럼 pair를 나타내며, \"\"는 사라진 컬럼을 의미함  \n",
    "기본적으로 사라진 컬럼은 Null로 넣으면 되지만 선거종류의 경우 원본데이터 제목에 명시돼있으므로 자동으로 넣는다."
   ]
  },
  {
   "cell_type": "code",
   "execution_count": 65,
   "metadata": {
    "ExecuteTime": {
     "end_time": "2020-12-05T13:12:24.051986Z",
     "start_time": "2020-12-05T13:12:24.038046Z"
    }
   },
   "outputs": [],
   "source": [
    "# 매핑 정보\n",
    "원본 = ['성명', '지역', '선거구명', '선거 종류', '회차', '기호', '성별', '정당명', '연령', '직업',\n",
    "      '여당평가', '당선여부', '득표수(득표율)', '학교', '과목', '경력_지역', '인지도', '지역구분']\n",
    "국회의원 = ['이름', '선거구', '선거구명', '종류', '회', '기호', '남여', '정당', '연령', '직업',\n",
    "        '여당평가', '당선여부', '득표율',      '학교', '과목', \"\"        , '인지', '지역구분']\n",
    "시도지사선거 = ['성명', '지역', '선거구명', '선거종류', '', '기호', '', '정당명', '연령', '직업',\n",
    "      '여당평가', '당선여부', '득표수', '학력', '', '', '인지도', '지역구분']\n",
    "구시군의장선거 = ['이름', '선거구명1', '선거구명2', '종류', '회', '기호', '남여', '정당', '연령', '직업',\n",
    "           '여당평가', '당선여부', '득표율',      '', '', \"\"        , '', '지역구분']\n",
    "시도의회의원선거 = ['성명', '선거구1', '선거구2', '', '', '', '', '', '', '',\n",
    "            '여당평가', '당선여부', '득표수', '학력', '과목', '경력_지역', '인지도', '지역구분']\n",
    "구시군의회의원선거 = ['이름', '위치', '선거구', '', '회', '몇번', 'gender', '정당', '나이', 'job',\n",
    "      '당시여당평가', '당선', '득표율', '학력', '과', '경력', '인지', '지역구분']"
   ]
  },
  {
   "cell_type": "markdown",
   "metadata": {},
   "source": [
    "원본데이터 변경사항-> 각 원본 데이터 마다 여러개의 데이터가 존재함 -> 1번부터 2번까지 순서대로 등록 \n",
    "\n",
    "데이터이름|기본 행개수|all NULL행 추가 row|1번 제외 전체 value NULL 비율|데이터 내 중복 개수|데이터간 중복열 추가\n",
    "--|--|--|--|--|--\n",
    "국회의원1|1000|1%|2%|146개|2데이터 100개\n",
    "국회의원2|1929||8%|98개|\n",
    "시도지사선거1|183||4%|13개|\n",
    "구시군의장선거1|500||2%|190개|\n",
    "구시군의장선거2|1000||1%|145개|1 데이터 100개\n",
    "구시군의장선거3|680||4%|349개|1,2데이터 100,100개\n",
    "시도의회의원선거1|1200|2%|5%|28개|\n",
    "시도의회의원선거2|1200||7%|1000개|3번 데이터 1000개\n",
    "시도의회의원선거3|2352||3%|13개|\n",
    "구시군의회의원선거1|5471|3%|5%|2600개|\n",
    "구시군의회의원선거2|5471||6%|10개|\n",
    "구시군의회의원선거3|5471|10%|2%||1번, 2번 데이터 각 2500개\n"
   ]
  },
  {
   "cell_type": "code",
   "execution_count": 66,
   "metadata": {
    "ExecuteTime": {
     "end_time": "2020-12-05T13:12:25.070893Z",
     "start_time": "2020-12-05T13:12:24.365149Z"
    }
   },
   "outputs": [],
   "source": [
    "names = ['국회의원1', '국회의원2', '시도지사선거1', '구시군의장선거1','구시군의장선거2','구시군의장선거3',\n",
    " '시도의회의원선거1','시도의회의원선거2','시도의회의원선거3', '구시군의회의원선거1', '구시군의회의원선거2', '구시군의회의원선거3']\n",
    "cols = [국회의원, 국회의원, 시도지사선거, 구시군의장선거, 구시군의장선거, 구시군의장선거,\n",
    "       시도의회의원선거,시도의회의원선거,시도의회의원선거, 구시군의회의원선거, 구시군의회의원선거, 구시군의회의원선거]\n",
    "rows = [(0,1000), (1000,2929),(0,183), (0,500), (500,1500), (1500,2180), (0,1200), (1200, 2400), (2400, 4752),\n",
    "        (0,5471), (5471, 10942), (10942, 16413)]\n",
    "null_rows = [0.01, 0,0,0,0,0,0.02,0,0,0.03,0,0.1]\n",
    "null_vals = [0.02, 0.08, 0.04, 0.02, 0.01, 0.04, 0.05, 0.07, 0.03, 0.05, 0.06, 0.02]\n",
    "dup1s = [146,98,13,190,145,349,28,1000,13,2600,10,0]\n",
    "dup2s = [[(1,100)],None,None,None,[(3,100)],[(3,100),(4,100)],None,[(8,1000)],None,None,None,[(9,2500),(10,2500)]]\n",
    "tmp_dfs = []\n",
    "for i in range(12):\n",
    "    origin = data[data[\"선거 종류\"] == names[i][:-1]].reset_index(drop=True)\n",
    "    origin = origin[rows[i][0]:rows[i][1]].reset_index(drop=True)\n",
    "    tmp = origin.copy()\n",
    "    na = pd.DataFrame( columns = tmp.columns,index = range(len(origin),int(len(origin) + len(origin) * null_rows[11])))\n",
    "    if len(na) != 0:\n",
    "        tmp = pd.concat([tmp,na]).reset_index(drop=True)\n",
    "    for col in tmp.columns:\n",
    "        tmp.loc[np.random.randint(0,len(origin),(round(origin.shape[0] * null_vals[i]),)),col] = np.nan\n",
    "    tmp = pd.concat([tmp,origin.loc[np.random.randint(0,len(origin),dup1s[i])]]).reset_index(drop=True)\n",
    "    if dup2s[i] != None:\n",
    "        for dup in dup2s[i]:\n",
    "            tmp_origin = data[data[\"선거 종류\"] == names[dup[0]][:-1]].reset_index(drop=True)\n",
    "            tmp_origin = tmp_origin.loc[np.random.randint(0,len(tmp_origin),dup[1])]\n",
    "            tmp = pd.concat([tmp,tmp_origin]).reset_index(drop=True)\n",
    "    tmp_dfs.append(tmp)\n",
    "for i in range(12):\n",
    "    tmp_dfs[i].columns = cols[i]\n",
    "    tmp_dfs[i] = tmp_dfs[i].drop(\"\",axis=1)  \n",
    "    tmp_dfs[i].to_csv(names[i] + \".csv\", index = False)"
   ]
  },
  {
   "cell_type": "code",
   "execution_count": 67,
   "metadata": {
    "ExecuteTime": {
     "end_time": "2020-12-05T13:12:25.379954Z",
     "start_time": "2020-12-05T13:12:25.351025Z"
    }
   },
   "outputs": [],
   "source": [
    "for i in range(12):\n",
    "    dic = dict(zip(cols[i],원본))\n",
    "    del dic[\"\"]\n",
    "    tmp_dfs[i] = tmp_dfs[i].rename(columns = dic)\n",
    "    if 6 <= i <= 8:\n",
    "        tmp_dfs[i][\"선거 종류\"] = \"시도의회의원선거\"\n",
    "    elif 9 <= i <= 11:\n",
    "        tmp_dfs[i][\"선거 종류\"] = \"구시군의회의원선거\""
   ]
  },
  {
   "cell_type": "code",
   "execution_count": 68,
   "metadata": {
    "ExecuteTime": {
     "end_time": "2020-12-05T13:12:25.811853Z",
     "start_time": "2020-12-05T13:12:25.689116Z"
    }
   },
   "outputs": [
    {
     "name": "stderr",
     "output_type": "stream",
     "text": [
      "C:\\Users\\ljw56\\anaconda3\\lib\\site-packages\\ipykernel_launcher.py:1: FutureWarning: Sorting because non-concatenation axis is not aligned. A future version\n",
      "of pandas will change to not sort by default.\n",
      "\n",
      "To accept the future behavior, pass 'sort=False'.\n",
      "\n",
      "To retain the current behavior and silence the warning, pass 'sort=True'.\n",
      "\n",
      "  \"\"\"Entry point for launching an IPython kernel.\n"
     ]
    }
   ],
   "source": [
    "result = pd.concat(tmp_dfs)\n",
    "result = result[result.notna().sum(axis=1) !=0]\n",
    "result = result[~result.duplicated()]\n",
    "result = result.reset_index()"
   ]
  },
  {
   "cell_type": "code",
   "execution_count": 76,
   "metadata": {
    "ExecuteTime": {
     "end_time": "2020-12-05T13:21:00.426671Z",
     "start_time": "2020-12-05T13:21:00.383818Z"
    }
   },
   "outputs": [],
   "source": [
    "data = result\n",
    "a = data.where(pd.notnull(data), \"\")"
   ]
  },
  {
   "cell_type": "code",
   "execution_count": 89,
   "metadata": {
    "ExecuteTime": {
     "end_time": "2020-12-05T13:27:07.053675Z",
     "start_time": "2020-12-05T13:27:06.943969Z"
    }
   },
   "outputs": [
    {
     "data": {
      "text/plain": [
       "0        법\n",
       "1        법\n",
       "7        법\n",
       "10       법\n",
       "20       법\n",
       "        ..\n",
       "30015    법\n",
       "30087    법\n",
       "30116    법\n",
       "30166    법\n",
       "30171    법\n",
       "Name: 과목, Length: 1632, dtype: object"
      ]
     },
     "execution_count": 89,
     "metadata": {},
     "output_type": "execute_result"
    }
   ],
   "source": [
    "a.where(a != \"\")[\"과목\"][a.where(a != \"\")[\"과목\"].fillna(\"\").str.contains(\"법\")]"
   ]
  },
  {
   "cell_type": "code",
   "execution_count": 70,
   "metadata": {
    "ExecuteTime": {
     "end_time": "2020-12-05T13:12:28.186568Z",
     "start_time": "2020-12-05T13:12:28.177624Z"
    }
   },
   "outputs": [],
   "source": [
    "# result[\"회차\"] = result[\"회차\"].dropna().astype(int)\n",
    "tmp = result[\"경력_지역\"].astype(float)\n"
   ]
  },
  {
   "cell_type": "code",
   "execution_count": null,
   "metadata": {},
   "outputs": [],
   "source": []
  }
 ],
 "metadata": {
  "hide_input": false,
  "kernelspec": {
   "display_name": "Python 3",
   "language": "python",
   "name": "python3"
  },
  "language_info": {
   "codemirror_mode": {
    "name": "ipython",
    "version": 3
   },
   "file_extension": ".py",
   "mimetype": "text/x-python",
   "name": "python",
   "nbconvert_exporter": "python",
   "pygments_lexer": "ipython3",
   "version": "3.7.6"
  },
  "toc": {
   "base_numbering": 1,
   "nav_menu": {},
   "number_sections": true,
   "sideBar": true,
   "skip_h1_title": false,
   "title_cell": "Table of Contents",
   "title_sidebar": "Contents",
   "toc_cell": false,
   "toc_position": {},
   "toc_section_display": true,
   "toc_window_display": false
  },
  "varInspector": {
   "cols": {
    "lenName": 16,
    "lenType": 16,
    "lenVar": 40
   },
   "kernels_config": {
    "python": {
     "delete_cmd_postfix": "",
     "delete_cmd_prefix": "del ",
     "library": "var_list.py",
     "varRefreshCmd": "print(var_dic_list())"
    },
    "r": {
     "delete_cmd_postfix": ") ",
     "delete_cmd_prefix": "rm(",
     "library": "var_list.r",
     "varRefreshCmd": "cat(var_dic_list()) "
    }
   },
   "types_to_exclude": [
    "module",
    "function",
    "builtin_function_or_method",
    "instance",
    "_Feature"
   ],
   "window_display": false
  }
 },
 "nbformat": 4,
 "nbformat_minor": 4
}
